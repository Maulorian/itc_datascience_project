{
 "cells": [
  {
   "cell_type": "code",
   "execution_count": 2,
   "metadata": {},
   "outputs": [],
   "source": [
    "import numpy as np\n",
    "import pandas as pd\n",
    "import matplotlib.pyplot as plt\n",
    "import seaborn as sns\n",
    "import re\n",
    "%matplotlib inline"
   ]
  },
  {
   "cell_type": "code",
   "execution_count": 3,
   "metadata": {},
   "outputs": [],
   "source": [
    "df = pd.read_csv('apple_tweets_content.csv')"
   ]
  },
  {
   "cell_type": "code",
   "execution_count": 10,
   "metadata": {},
   "outputs": [
    {
     "data": {
      "text/html": [
       "<div>\n",
       "<style scoped>\n",
       "    .dataframe tbody tr th:only-of-type {\n",
       "        vertical-align: middle;\n",
       "    }\n",
       "\n",
       "    .dataframe tbody tr th {\n",
       "        vertical-align: top;\n",
       "    }\n",
       "\n",
       "    .dataframe thead th {\n",
       "        text-align: right;\n",
       "    }\n",
       "</style>\n",
       "<table border=\"1\" class=\"dataframe\">\n",
       "  <thead>\n",
       "    <tr style=\"text-align: right;\">\n",
       "      <th></th>\n",
       "      <th>date</th>\n",
       "      <th>text</th>\n",
       "    </tr>\n",
       "  </thead>\n",
       "  <tbody>\n",
       "    <tr>\n",
       "      <th>0</th>\n",
       "      <td>2016-04-29 09:10:00</td>\n",
       "      <td>RT @DILLONFRANCIS: Dude @CalvinHarris fucking ...</td>\n",
       "    </tr>\n",
       "    <tr>\n",
       "      <th>1</th>\n",
       "      <td>2016-04-29 09:10:00</td>\n",
       "      <td>Apple iPod classic 7th Generation Black (160 G...</td>\n",
       "    </tr>\n",
       "    <tr>\n",
       "      <th>2</th>\n",
       "      <td>2016-04-29 09:10:00</td>\n",
       "      <td>Apple iPhone 6 - 16GB - Gold (Sprint) Clean Se...</td>\n",
       "    </tr>\n",
       "    <tr>\n",
       "      <th>3</th>\n",
       "      <td>2016-04-29 09:10:00</td>\n",
       "      <td>Get Jokey Smurfs brand smurfin new hut to play...</td>\n",
       "    </tr>\n",
       "    <tr>\n",
       "      <th>4</th>\n",
       "      <td>2016-04-29 09:09:00</td>\n",
       "      <td>Enjoy listening to I Knew You Were Trouble? Bu...</td>\n",
       "    </tr>\n",
       "    <tr>\n",
       "      <th>...</th>\n",
       "      <td>...</td>\n",
       "      <td>...</td>\n",
       "    </tr>\n",
       "    <tr>\n",
       "      <th>118350</th>\n",
       "      <td>2016-04-28 09:27:00</td>\n",
       "      <td>RT @Roleyy_: Only apple users dey enjoy snapch...</td>\n",
       "    </tr>\n",
       "    <tr>\n",
       "      <th>118351</th>\n",
       "      <td>2016-04-28 09:27:00</td>\n",
       "      <td>RT @2D_Swank: @hplusali about to have your shi...</td>\n",
       "    </tr>\n",
       "    <tr>\n",
       "      <th>118352</th>\n",
       "      <td>2016-04-28 09:27:00</td>\n",
       "      <td>RT @Voovwo__Ciudru: NEW APPLE IPAD MINI CASE C...</td>\n",
       "    </tr>\n",
       "    <tr>\n",
       "      <th>118353</th>\n",
       "      <td>2016-04-28 09:27:00</td>\n",
       "      <td>RT @Glamour_Zine: Flashback! : Techie Gift Gui...</td>\n",
       "    </tr>\n",
       "    <tr>\n",
       "      <th>118354</th>\n",
       "      <td>2016-04-28 09:27:00</td>\n",
       "      <td>RT @FyrizM: Like an apple hanging from a tree ...</td>\n",
       "    </tr>\n",
       "  </tbody>\n",
       "</table>\n",
       "<p>118355 rows × 2 columns</p>\n",
       "</div>"
      ],
      "text/plain": [
       "                       date                                               text\n",
       "0       2016-04-29 09:10:00  RT @DILLONFRANCIS: Dude @CalvinHarris fucking ...\n",
       "1       2016-04-29 09:10:00  Apple iPod classic 7th Generation Black (160 G...\n",
       "2       2016-04-29 09:10:00  Apple iPhone 6 - 16GB - Gold (Sprint) Clean Se...\n",
       "3       2016-04-29 09:10:00  Get Jokey Smurfs brand smurfin new hut to play...\n",
       "4       2016-04-29 09:09:00  Enjoy listening to I Knew You Were Trouble? Bu...\n",
       "...                     ...                                                ...\n",
       "118350  2016-04-28 09:27:00  RT @Roleyy_: Only apple users dey enjoy snapch...\n",
       "118351  2016-04-28 09:27:00  RT @2D_Swank: @hplusali about to have your shi...\n",
       "118352  2016-04-28 09:27:00  RT @Voovwo__Ciudru: NEW APPLE IPAD MINI CASE C...\n",
       "118353  2016-04-28 09:27:00  RT @Glamour_Zine: Flashback! : Techie Gift Gui...\n",
       "118354  2016-04-28 09:27:00  RT @FyrizM: Like an apple hanging from a tree ...\n",
       "\n",
       "[118355 rows x 2 columns]"
      ]
     },
     "execution_count": 10,
     "metadata": {},
     "output_type": "execute_result"
    }
   ],
   "source": [
    "df.columns = ['date', 'text']\n",
    "df"
   ]
  },
  {
   "cell_type": "code",
   "execution_count": 11,
   "metadata": {},
   "outputs": [
    {
     "name": "stdout",
     "output_type": "stream",
     "text": [
      "<class 'pandas.core.frame.DataFrame'>\n",
      "Int64Index: 118355 entries, 0 to 118354\n",
      "Data columns (total 2 columns):\n",
      " #   Column  Non-Null Count   Dtype \n",
      "---  ------  --------------   ----- \n",
      " 0   date    118355 non-null  object\n",
      " 1   text    118355 non-null  object\n",
      "dtypes: object(2)\n",
      "memory usage: 2.7+ MB\n"
     ]
    }
   ],
   "source": [
    "df.info()"
   ]
  },
  {
   "cell_type": "code",
   "execution_count": 12,
   "metadata": {},
   "outputs": [],
   "source": [
    "df.dropna(inplace=True)"
   ]
  },
  {
   "cell_type": "code",
   "execution_count": 13,
   "metadata": {},
   "outputs": [],
   "source": [
    "import re\n",
    "\n",
    "def clean_up_tweet(txt):\n",
    "    # Remove mentions\n",
    "    txt = re.sub(r'@[A-Za-z0-9_]+', '', txt)\n",
    "    # Remove hashtags\n",
    "    txt = re.sub(r'#', '', txt)\n",
    "    # Remove retweets:\n",
    "    txt = re.sub(r'RT : ', '', txt)\n",
    "    # Remove urls\n",
    "    txt = re.sub(r'https?:\\/\\/[A-Za-z0-9\\.\\/]+', '', txt).strip()\n",
    "    return txt"
   ]
  },
  {
   "cell_type": "code",
   "execution_count": 14,
   "metadata": {},
   "outputs": [],
   "source": [
    "df[\"text\"] = df[\"text\"].apply(clean_up_tweet)"
   ]
  },
  {
   "cell_type": "code",
   "execution_count": 15,
   "metadata": {},
   "outputs": [
    {
     "data": {
      "text/html": [
       "<div>\n",
       "<style scoped>\n",
       "    .dataframe tbody tr th:only-of-type {\n",
       "        vertical-align: middle;\n",
       "    }\n",
       "\n",
       "    .dataframe tbody tr th {\n",
       "        vertical-align: top;\n",
       "    }\n",
       "\n",
       "    .dataframe thead th {\n",
       "        text-align: right;\n",
       "    }\n",
       "</style>\n",
       "<table border=\"1\" class=\"dataframe\">\n",
       "  <thead>\n",
       "    <tr style=\"text-align: right;\">\n",
       "      <th></th>\n",
       "      <th>date</th>\n",
       "      <th>text</th>\n",
       "    </tr>\n",
       "  </thead>\n",
       "  <tbody>\n",
       "    <tr>\n",
       "      <th>0</th>\n",
       "      <td>2016-04-29 09:10:00</td>\n",
       "      <td>Dude  fucking amazing!!</td>\n",
       "    </tr>\n",
       "    <tr>\n",
       "      <th>1</th>\n",
       "      <td>2016-04-29 09:10:00</td>\n",
       "      <td>Apple iPod classic 7th Generation Black (160 GB)</td>\n",
       "    </tr>\n",
       "    <tr>\n",
       "      <th>2</th>\n",
       "      <td>2016-04-29 09:10:00</td>\n",
       "      <td>Apple iPhone 6 - 16GB - Gold (Sprint) Clean Se...</td>\n",
       "    </tr>\n",
       "    <tr>\n",
       "      <th>3</th>\n",
       "      <td>2016-04-29 09:10:00</td>\n",
       "      <td>Get Jokey Smurfs brand smurfin new hut to play...</td>\n",
       "    </tr>\n",
       "    <tr>\n",
       "      <th>4</th>\n",
       "      <td>2016-04-29 09:09:00</td>\n",
       "      <td>Enjoy listening to I Knew You Were Trouble? Bu...</td>\n",
       "    </tr>\n",
       "    <tr>\n",
       "      <th>...</th>\n",
       "      <td>...</td>\n",
       "      <td>...</td>\n",
       "    </tr>\n",
       "    <tr>\n",
       "      <th>118350</th>\n",
       "      <td>2016-04-28 09:27:00</td>\n",
       "      <td>Only apple users dey enjoy snapchat. Android u...</td>\n",
       "    </tr>\n",
       "    <tr>\n",
       "      <th>118351</th>\n",
       "      <td>2016-04-28 09:27:00</td>\n",
       "      <td>about to have your shit blow up lol.. Apple do...</td>\n",
       "    </tr>\n",
       "    <tr>\n",
       "      <th>118352</th>\n",
       "      <td>2016-04-28 09:27:00</td>\n",
       "      <td>NEW APPLE IPAD MINI CASE COVER+SCREEN PROTECTO...</td>\n",
       "    </tr>\n",
       "    <tr>\n",
       "      <th>118353</th>\n",
       "      <td>2016-04-28 09:27:00</td>\n",
       "      <td>Flashback! : Techie Gift Guide for her and him...</td>\n",
       "    </tr>\n",
       "    <tr>\n",
       "      <th>118354</th>\n",
       "      <td>2016-04-28 09:27:00</td>\n",
       "      <td>Like an apple hanging from a tree  DolceAmoreB...</td>\n",
       "    </tr>\n",
       "  </tbody>\n",
       "</table>\n",
       "<p>118355 rows × 2 columns</p>\n",
       "</div>"
      ],
      "text/plain": [
       "                       date                                               text\n",
       "0       2016-04-29 09:10:00                            Dude  fucking amazing!!\n",
       "1       2016-04-29 09:10:00   Apple iPod classic 7th Generation Black (160 GB)\n",
       "2       2016-04-29 09:10:00  Apple iPhone 6 - 16GB - Gold (Sprint) Clean Se...\n",
       "3       2016-04-29 09:10:00  Get Jokey Smurfs brand smurfin new hut to play...\n",
       "4       2016-04-29 09:09:00  Enjoy listening to I Knew You Were Trouble? Bu...\n",
       "...                     ...                                                ...\n",
       "118350  2016-04-28 09:27:00  Only apple users dey enjoy snapchat. Android u...\n",
       "118351  2016-04-28 09:27:00  about to have your shit blow up lol.. Apple do...\n",
       "118352  2016-04-28 09:27:00  NEW APPLE IPAD MINI CASE COVER+SCREEN PROTECTO...\n",
       "118353  2016-04-28 09:27:00  Flashback! : Techie Gift Guide for her and him...\n",
       "118354  2016-04-28 09:27:00  Like an apple hanging from a tree  DolceAmoreB...\n",
       "\n",
       "[118355 rows x 2 columns]"
      ]
     },
     "execution_count": 15,
     "metadata": {},
     "output_type": "execute_result"
    }
   ],
   "source": [
    "df"
   ]
  },
  {
   "cell_type": "code",
   "execution_count": 29,
   "metadata": {},
   "outputs": [],
   "source": [
    "from tqdm import tqdm\n",
    "tqdm.pandas()"
   ]
  },
  {
   "cell_type": "code",
   "execution_count": 21,
   "metadata": {},
   "outputs": [
    {
     "name": "stderr",
     "output_type": "stream",
     "text": [
      "/Users/danielsiles/anaconda3/lib/python3.6/site-packages/ipykernel_launcher.py:2: TqdmDeprecationWarning: This function will be removed in tqdm==5.0.0\n",
      "Please use `tqdm.notebook.tqdm` instead of `tqdm.tqdm_notebook`\n",
      "  \n"
     ]
    },
    {
     "data": {
      "application/vnd.jupyter.widget-view+json": {
       "model_id": "3e0bcbf4e8034a0f9737df63b76eface",
       "version_major": 2,
       "version_minor": 0
      },
      "text/plain": [
       "HBox(children=(HTML(value=''), FloatProgress(value=1.0, bar_style='info', layout=Layout(width='20px'), max=1.0…"
      ]
     },
     "metadata": {},
     "output_type": "display_data"
    },
    {
     "name": "stdout",
     "output_type": "stream",
     "text": [
      "\n"
     ]
    },
    {
     "data": {
      "application/vnd.jupyter.widget-view+json": {
       "model_id": "9ad047ed5c3149c3afed50249340f9b7",
       "version_major": 2,
       "version_minor": 0
      },
      "text/plain": [
       "HBox(children=(HTML(value='Example Desc'), FloatProgress(value=0.0, max=118355.0), HTML(value='')))"
      ]
     },
     "metadata": {},
     "output_type": "display_data"
    },
    {
     "name": "stdout",
     "output_type": "stream",
     "text": [
      "\n"
     ]
    },
    {
     "data": {
      "text/plain": [
       "0                                   Dude  fucking amazing!!\n",
       "1          Apple iPod classic 7th Generation Black (160 GB)\n",
       "2         Apple iPhone 6 - 16GB - Gold (Sprint) Clean Se...\n",
       "3         Get Jokey Smurfs brand smurfin new hut to play...\n",
       "4         Enjoy listening to I Knew You Were Trouble? Bu...\n",
       "                                ...                        \n",
       "118350    Only apple users dey enjoy snapchat. Android u...\n",
       "118351    about to have your shit blow up lol.. Apple do...\n",
       "118352    NEW APPLE IPAD MINI CASE COVER+SCREEN PROTECTO...\n",
       "118353    Flashback! : Techie Gift Guide for her and him...\n",
       "118354    Like an apple hanging from a tree  DolceAmoreB...\n",
       "Name: text, Length: 118355, dtype: object"
      ]
     },
     "execution_count": 21,
     "metadata": {},
     "output_type": "execute_result"
    }
   ],
   "source": [
    "def expand_contractions(phrase):\n",
    "    phrase = re.sub(r\"\\`\", \"\\'\", phrase)\n",
    "    \n",
    "    # specific\n",
    "    phrase = re.sub(r\"won\\'t\", \"will not\", phrase)\n",
    "    phrase = re.sub(r\"can\\'t\", \"can not\", phrase)\n",
    "\n",
    "    # general\n",
    "    phrase = re.sub(r\"n\\'t\", \" not\", phrase)\n",
    "    phrase = re.sub(r\"\\'re\", \" are\", phrase)\n",
    "    phrase = re.sub(r\"\\'s\", \" is\", phrase)\n",
    "    phrase = re.sub(r\"\\'d\", \" would\", phrase)\n",
    "    phrase = re.sub(r\"\\'ll\", \" will\", phrase)\n",
    "    phrase = re.sub(r\"\\'t\", \" not\", phrase)\n",
    "    phrase = re.sub(r\"\\'ve\", \" have\", phrase)\n",
    "    phrase = re.sub(r\"\\'m\", \" am\", phrase)\n",
    "    return phrase.strip()\n",
    "\n",
    "df[\"text\"] = df[\"text\"].progress_apply(expand_contractions)\n",
    "df[\"text\"]"
   ]
  },
  {
   "cell_type": "code",
   "execution_count": 23,
   "metadata": {},
   "outputs": [
    {
     "data": {
      "application/vnd.jupyter.widget-view+json": {
       "model_id": "1d65830b0edb420aab1d346962cb8cc1",
       "version_major": 2,
       "version_minor": 0
      },
      "text/plain": [
       "HBox(children=(HTML(value='Example Desc'), FloatProgress(value=0.0, max=118355.0), HTML(value='')))"
      ]
     },
     "metadata": {},
     "output_type": "display_data"
    },
    {
     "name": "stdout",
     "output_type": "stream",
     "text": [
      "\n"
     ]
    }
   ],
   "source": [
    "from string import punctuation\n",
    "\n",
    "def remove_punctuation(tweet):\n",
    "    tweet = re.sub(f\"[{punctuation}]\", \"\", tweet).strip()\n",
    "    return tweet\n",
    "\n",
    "df[\"text\"] = df[\"text\"].progress_apply(remove_punctuation)"
   ]
  },
  {
   "cell_type": "code",
   "execution_count": 24,
   "metadata": {},
   "outputs": [
    {
     "data": {
      "application/vnd.jupyter.widget-view+json": {
       "model_id": "bf793bcc8fc94b57a29ebdbd5d0f1361",
       "version_major": 2,
       "version_minor": 0
      },
      "text/plain": [
       "HBox(children=(HTML(value='Example Desc'), FloatProgress(value=0.0, max=118355.0), HTML(value='')))"
      ]
     },
     "metadata": {},
     "output_type": "display_data"
    },
    {
     "name": "stdout",
     "output_type": "stream",
     "text": [
      "\n"
     ]
    },
    {
     "data": {
      "text/plain": [
       "0                                     Dude  fucking amazing\n",
       "1            Apple iPod classic 7th Generation Black 160 GB\n",
       "2         Apple iPhone 6  16GB  Gold Sprint Clean Serial...\n",
       "3         Get Jokey Smurfs brand smurfin new hut to play...\n",
       "4         Enjoy listening to I Knew You Were Trouble Buy...\n",
       "                                ...                        \n",
       "118350    Only apple users dey enjoy snapchat Android us...\n",
       "118351    about to have your shit blow up lol Apple does...\n",
       "118352    NEW APPLE IPAD MINI CASE COVERSCREEN PROTECTOR...\n",
       "118353    Flashback  Techie Gift Guide for her and him p...\n",
       "118354    Like an apple hanging from a tree  DolceAmoreB...\n",
       "Name: text, Length: 118355, dtype: object"
      ]
     },
     "execution_count": 24,
     "metadata": {},
     "output_type": "execute_result"
    }
   ],
   "source": [
    "def deEmojify(text):\n",
    "    regrex_pattern = re.compile(pattern = \"[\"\n",
    "        u\"\\U0001F600-\\U0001F64F\"  # emoticons\n",
    "        u\"\\U0001F300-\\U0001F5FF\"  # symbols & pictographs\n",
    "        u\"\\U0001F680-\\U0001F6FF\"  # transport & map symbols\n",
    "        u\"\\U0001F1E0-\\U0001F1FF\"  # flags (iOS)\n",
    "                           \"]+\", flags = re.UNICODE)\n",
    "    return regrex_pattern.sub(r'',text).strip()\n",
    "\n",
    "df[\"text\"] = df[\"text\"].progress_apply(remove_punctuation)\n",
    "df[\"text\"]"
   ]
  },
  {
   "cell_type": "code",
   "execution_count": 25,
   "metadata": {},
   "outputs": [
    {
     "data": {
      "application/vnd.jupyter.widget-view+json": {
       "model_id": "efe42b416aa04eb288f78a52bacb581b",
       "version_major": 2,
       "version_minor": 0
      },
      "text/plain": [
       "HBox(children=(HTML(value='Example Desc'), FloatProgress(value=0.0, max=118355.0), HTML(value='')))"
      ]
     },
     "metadata": {},
     "output_type": "display_data"
    },
    {
     "name": "stdout",
     "output_type": "stream",
     "text": [
      "\n"
     ]
    },
    {
     "data": {
      "text/plain": [
       "0                                     Dude  fucking amazing\n",
       "1                  Apple iPod classic  Generation Black  GB\n",
       "2         Apple iPhone     Gold Sprint Clean Serial Numb...\n",
       "3         Get Jokey Smurfs brand smurfin new hut to play...\n",
       "4         Enjoy listening to I Knew You Were Trouble Buy...\n",
       "                                ...                        \n",
       "118350    Only apple users dey enjoy snapchat Android us...\n",
       "118351    about to have your shit blow up lol Apple does...\n",
       "118352    NEW APPLE IPAD MINI CASE COVERSCREEN PROTECTOR...\n",
       "118353    Flashback  Techie Gift Guide for her and him p...\n",
       "118354    Like an apple hanging from a tree  DolceAmoreB...\n",
       "Name: text, Length: 118355, dtype: object"
      ]
     },
     "execution_count": 25,
     "metadata": {},
     "output_type": "execute_result"
    }
   ],
   "source": [
    "def remove_numbers(tweet):\n",
    "    return re.sub(r'\\w*\\d\\w*', \"\", tweet).strip()\n",
    "\n",
    "df[\"text\"] = df[\"text\"].progress_apply(remove_numbers)\n",
    "df[\"text\"]"
   ]
  },
  {
   "cell_type": "code",
   "execution_count": 26,
   "metadata": {},
   "outputs": [],
   "source": [
    "import spacy\n",
    "nlp = spacy.load('en')"
   ]
  },
  {
   "cell_type": "code",
   "execution_count": 30,
   "metadata": {},
   "outputs": [],
   "source": [
    "def lemmatize_tweet(tweet):\n",
    "    lemmatized_text = nlp(tweet)\n",
    "    lemmatized_text_lst = [word.lemma_ for word in lemmatized_text]\n",
    "    return \" \".join(lemmatized_text_lst)"
   ]
  },
  {
   "cell_type": "code",
   "execution_count": 31,
   "metadata": {},
   "outputs": [
    {
     "name": "stderr",
     "output_type": "stream",
     "text": [
      "100%|██████████| 118355/118355 [12:41<00:00, 155.33it/s]\n"
     ]
    }
   ],
   "source": [
    "df[\"text\"] = df[\"text\"].progress_apply(lemmatize_tweet)"
   ]
  },
  {
   "cell_type": "code",
   "execution_count": 32,
   "metadata": {},
   "outputs": [
    {
     "data": {
      "text/plain": [
       "0                                       Dude   fuck amazing\n",
       "1                Apple iPod classic   Generation Black   GB\n",
       "2         Apple iPhone      Gold Sprint Clean Serial num...\n",
       "3         get Jokey Smurfs brand smurfin new hut to play...\n",
       "4         enjoy listen to -PRON- know -PRON- be trouble ...\n",
       "                                ...                        \n",
       "118350    only apple user dey enjoy snapchat Android use...\n",
       "118351    about to have -PRON- shit blow up lol Apple do...\n",
       "118352    new APPLE ipad MINI case COVERSCREEN PROTECTOR...\n",
       "118353    Flashback   Techie Gift Guide for -PRON- and -...\n",
       "118354    like an apple hang from a tree   DolceAmoreBeg...\n",
       "Name: text, Length: 118355, dtype: object"
      ]
     },
     "execution_count": 32,
     "metadata": {},
     "output_type": "execute_result"
    }
   ],
   "source": [
    "df[\"text\"]"
   ]
  },
  {
   "cell_type": "code",
   "execution_count": 33,
   "metadata": {},
   "outputs": [
    {
     "data": {
      "text/html": [
       "<div>\n",
       "<style scoped>\n",
       "    .dataframe tbody tr th:only-of-type {\n",
       "        vertical-align: middle;\n",
       "    }\n",
       "\n",
       "    .dataframe tbody tr th {\n",
       "        vertical-align: top;\n",
       "    }\n",
       "\n",
       "    .dataframe thead th {\n",
       "        text-align: right;\n",
       "    }\n",
       "</style>\n",
       "<table border=\"1\" class=\"dataframe\">\n",
       "  <thead>\n",
       "    <tr style=\"text-align: right;\">\n",
       "      <th></th>\n",
       "      <th>date</th>\n",
       "      <th>text</th>\n",
       "    </tr>\n",
       "  </thead>\n",
       "  <tbody>\n",
       "    <tr>\n",
       "      <th>0</th>\n",
       "      <td>2016-04-29 09:10:00</td>\n",
       "      <td>Dude   fuck amazing</td>\n",
       "    </tr>\n",
       "    <tr>\n",
       "      <th>1</th>\n",
       "      <td>2016-04-29 09:10:00</td>\n",
       "      <td>Apple iPod classic   Generation Black   GB</td>\n",
       "    </tr>\n",
       "    <tr>\n",
       "      <th>2</th>\n",
       "      <td>2016-04-29 09:10:00</td>\n",
       "      <td>Apple iPhone      Gold Sprint Clean Serial num...</td>\n",
       "    </tr>\n",
       "    <tr>\n",
       "      <th>3</th>\n",
       "      <td>2016-04-29 09:10:00</td>\n",
       "      <td>get Jokey Smurfs brand smurfin new hut to play...</td>\n",
       "    </tr>\n",
       "    <tr>\n",
       "      <th>4</th>\n",
       "      <td>2016-04-29 09:09:00</td>\n",
       "      <td>enjoy listen to -PRON- know -PRON- be trouble ...</td>\n",
       "    </tr>\n",
       "    <tr>\n",
       "      <th>...</th>\n",
       "      <td>...</td>\n",
       "      <td>...</td>\n",
       "    </tr>\n",
       "    <tr>\n",
       "      <th>118350</th>\n",
       "      <td>2016-04-28 09:27:00</td>\n",
       "      <td>only apple user dey enjoy snapchat Android use...</td>\n",
       "    </tr>\n",
       "    <tr>\n",
       "      <th>118351</th>\n",
       "      <td>2016-04-28 09:27:00</td>\n",
       "      <td>about to have -PRON- shit blow up lol Apple do...</td>\n",
       "    </tr>\n",
       "    <tr>\n",
       "      <th>118352</th>\n",
       "      <td>2016-04-28 09:27:00</td>\n",
       "      <td>new APPLE ipad MINI case COVERSCREEN PROTECTOR...</td>\n",
       "    </tr>\n",
       "    <tr>\n",
       "      <th>118353</th>\n",
       "      <td>2016-04-28 09:27:00</td>\n",
       "      <td>Flashback   Techie Gift Guide for -PRON- and -...</td>\n",
       "    </tr>\n",
       "    <tr>\n",
       "      <th>118354</th>\n",
       "      <td>2016-04-28 09:27:00</td>\n",
       "      <td>like an apple hang from a tree   DolceAmoreBeg...</td>\n",
       "    </tr>\n",
       "  </tbody>\n",
       "</table>\n",
       "<p>118350 rows × 2 columns</p>\n",
       "</div>"
      ],
      "text/plain": [
       "                       date                                               text\n",
       "0       2016-04-29 09:10:00                                Dude   fuck amazing\n",
       "1       2016-04-29 09:10:00         Apple iPod classic   Generation Black   GB\n",
       "2       2016-04-29 09:10:00  Apple iPhone      Gold Sprint Clean Serial num...\n",
       "3       2016-04-29 09:10:00  get Jokey Smurfs brand smurfin new hut to play...\n",
       "4       2016-04-29 09:09:00  enjoy listen to -PRON- know -PRON- be trouble ...\n",
       "...                     ...                                                ...\n",
       "118350  2016-04-28 09:27:00  only apple user dey enjoy snapchat Android use...\n",
       "118351  2016-04-28 09:27:00  about to have -PRON- shit blow up lol Apple do...\n",
       "118352  2016-04-28 09:27:00  new APPLE ipad MINI case COVERSCREEN PROTECTOR...\n",
       "118353  2016-04-28 09:27:00  Flashback   Techie Gift Guide for -PRON- and -...\n",
       "118354  2016-04-28 09:27:00  like an apple hang from a tree   DolceAmoreBeg...\n",
       "\n",
       "[118350 rows x 2 columns]"
      ]
     },
     "execution_count": 33,
     "metadata": {},
     "output_type": "execute_result"
    }
   ],
   "source": [
    "df.to_csv(\"lemmatized_apple_tweets_df.csv\")\n",
    "df = pd.read_csv('lemmatized_apple_tweets_df.csv', index_col=0).dropna()\n",
    "df"
   ]
  },
  {
   "cell_type": "code",
   "execution_count": 34,
   "metadata": {},
   "outputs": [
    {
     "data": {
      "text/plain": [
       "0                                       Dude   fuck amazing\n",
       "1                Apple iPod classic   Generation Black   GB\n",
       "2         Apple iPhone      Gold Sprint Clean Serial num...\n",
       "3         get Jokey Smurfs brand smurfin new hut to play...\n",
       "4         enjoy listen to -PRON- know -PRON- be trouble ...\n",
       "                                ...                        \n",
       "118350    only apple user dey enjoy snapchat Android use...\n",
       "118351    about to have -PRON- shit blow up lol Apple do...\n",
       "118352    new APPLE ipad MINI case COVERSCREEN PROTECTOR...\n",
       "118353    Flashback   Techie Gift Guide for -PRON- and -...\n",
       "118354    like an apple hang from a tree   DolceAmoreBeg...\n",
       "Name: text, Length: 118350, dtype: object"
      ]
     },
     "execution_count": 34,
     "metadata": {},
     "output_type": "execute_result"
    }
   ],
   "source": [
    "df[\"text\"]"
   ]
  },
  {
   "cell_type": "code",
   "execution_count": null,
   "metadata": {},
   "outputs": [],
   "source": []
  },
  {
   "cell_type": "code",
   "execution_count": 35,
   "metadata": {},
   "outputs": [
    {
     "data": {
      "text/plain": [
       "(array(['Apple', 'Music', 'Retweet', 'a', 'amp', 'chance', 'follow', 'for',\n",
       "        'free', 'of', 'to', 'win', 'year'], dtype='<U7'),\n",
       " array([1, 1, 1, 2, 1, 1, 1, 2, 1, 1, 1, 1, 1]))"
      ]
     },
     "execution_count": 35,
     "metadata": {},
     "output_type": "execute_result"
    }
   ],
   "source": [
    "np.unique(df.loc[20, \"text\"].split(), return_counts=True)"
   ]
  },
  {
   "cell_type": "code",
   "execution_count": 36,
   "metadata": {},
   "outputs": [],
   "source": [
    "import nltk"
   ]
  },
  {
   "cell_type": "code",
   "execution_count": 37,
   "metadata": {},
   "outputs": [
    {
     "name": "stderr",
     "output_type": "stream",
     "text": [
      "[nltk_data] Downloading package stopwords to\n",
      "[nltk_data]     /Users/danielsiles/nltk_data...\n",
      "[nltk_data]   Package stopwords is already up-to-date!\n"
     ]
    },
    {
     "data": {
      "text/plain": [
       "True"
      ]
     },
     "execution_count": 37,
     "metadata": {},
     "output_type": "execute_result"
    }
   ],
   "source": [
    "from nltk.corpus import stopwords\n",
    "nltk.download('stopwords')"
   ]
  },
  {
   "cell_type": "code",
   "execution_count": 38,
   "metadata": {},
   "outputs": [],
   "source": [
    "from sklearn.feature_extraction.text import TfidfVectorizer\n",
    "from sklearn.model_selection import train_test_split\n",
    "\n",
    "vectorizer = TfidfVectorizer(stop_words=stopwords.words('english'), ngram_range=(1,3), min_df=25, max_df=0.5)"
   ]
  },
  {
   "cell_type": "code",
   "execution_count": 40,
   "metadata": {},
   "outputs": [],
   "source": [
    "# def sentiment_encoder(sentiment):\n",
    "#     if sentiment == 'negative':\n",
    "#         return 0\n",
    "#     elif sentiment == 'neutral':\n",
    "#         return 1\n",
    "#     else:\n",
    "#         return 2\n",
    "\n",
    "# df[TARGET] = df[TARGET].apply(sentiment_encoder)"
   ]
  },
  {
   "cell_type": "code",
   "execution_count": 41,
   "metadata": {},
   "outputs": [
    {
     "name": "stdout",
     "output_type": "stream",
     "text": [
      "Requirement already satisfied: TextBlob in /Users/danielsiles/anaconda3/lib/python3.6/site-packages (0.15.3)\n",
      "Requirement already satisfied: nltk>=3.1 in /Users/danielsiles/anaconda3/lib/python3.6/site-packages (from TextBlob) (3.5)\n",
      "Requirement already satisfied: joblib in /Users/danielsiles/anaconda3/lib/python3.6/site-packages (from nltk>=3.1->TextBlob) (1.0.0)\n",
      "Requirement already satisfied: regex in /Users/danielsiles/anaconda3/lib/python3.6/site-packages (from nltk>=3.1->TextBlob) (2020.11.13)\n",
      "Requirement already satisfied: click in /Users/danielsiles/anaconda3/lib/python3.6/site-packages (from nltk>=3.1->TextBlob) (7.1.2)\n",
      "Requirement already satisfied: tqdm in /Users/danielsiles/anaconda3/lib/python3.6/site-packages (from nltk>=3.1->TextBlob) (4.53.0)\n"
     ]
    }
   ],
   "source": [
    "!pip install TextBlob"
   ]
  },
  {
   "cell_type": "code",
   "execution_count": 42,
   "metadata": {},
   "outputs": [],
   "source": [
    "from textblob import TextBlob\n",
    "# from wordcloud import WordCloud\n",
    "\n",
    "def getSubjectivity(text):\n",
    "    return TextBlob(text).sentiment.subjectivity\n",
    "\n",
    "# Create a function to get the polarity\n",
    "def getPolarity(text):\n",
    "    return  TextBlob(text).sentiment.polarity\n",
    "\n",
    "\n",
    "# Create two new columns 'Subjectivity' & 'Polarity'\n",
    "df['Subjectivity'] = df['text'].apply(getSubjectivity)\n",
    "df['Polarity'] = df['text'].apply(getPolarity)"
   ]
  },
  {
   "cell_type": "code",
   "execution_count": 44,
   "metadata": {},
   "outputs": [
    {
     "data": {
      "text/html": [
       "<div>\n",
       "<style scoped>\n",
       "    .dataframe tbody tr th:only-of-type {\n",
       "        vertical-align: middle;\n",
       "    }\n",
       "\n",
       "    .dataframe tbody tr th {\n",
       "        vertical-align: top;\n",
       "    }\n",
       "\n",
       "    .dataframe thead th {\n",
       "        text-align: right;\n",
       "    }\n",
       "</style>\n",
       "<table border=\"1\" class=\"dataframe\">\n",
       "  <thead>\n",
       "    <tr style=\"text-align: right;\">\n",
       "      <th></th>\n",
       "      <th>date</th>\n",
       "      <th>text</th>\n",
       "      <th>Subjectivity</th>\n",
       "      <th>Polarity</th>\n",
       "    </tr>\n",
       "  </thead>\n",
       "  <tbody>\n",
       "    <tr>\n",
       "      <th>0</th>\n",
       "      <td>2016-04-29 09:10:00</td>\n",
       "      <td>Dude   fuck amazing</td>\n",
       "      <td>0.750000</td>\n",
       "      <td>0.100000</td>\n",
       "    </tr>\n",
       "    <tr>\n",
       "      <th>1</th>\n",
       "      <td>2016-04-29 09:10:00</td>\n",
       "      <td>Apple iPod classic   Generation Black   GB</td>\n",
       "      <td>0.300000</td>\n",
       "      <td>0.000000</td>\n",
       "    </tr>\n",
       "    <tr>\n",
       "      <th>2</th>\n",
       "      <td>2016-04-29 09:10:00</td>\n",
       "      <td>Apple iPhone      Gold Sprint Clean Serial num...</td>\n",
       "      <td>0.700000</td>\n",
       "      <td>0.366667</td>\n",
       "    </tr>\n",
       "    <tr>\n",
       "      <th>3</th>\n",
       "      <td>2016-04-29 09:10:00</td>\n",
       "      <td>get Jokey Smurfs brand smurfin new hut to play...</td>\n",
       "      <td>0.427273</td>\n",
       "      <td>-0.131818</td>\n",
       "    </tr>\n",
       "    <tr>\n",
       "      <th>4</th>\n",
       "      <td>2016-04-29 09:09:00</td>\n",
       "      <td>enjoy listen to -PRON- know -PRON- be trouble ...</td>\n",
       "      <td>0.411905</td>\n",
       "      <td>0.161905</td>\n",
       "    </tr>\n",
       "    <tr>\n",
       "      <th>...</th>\n",
       "      <td>...</td>\n",
       "      <td>...</td>\n",
       "      <td>...</td>\n",
       "      <td>...</td>\n",
       "    </tr>\n",
       "    <tr>\n",
       "      <th>118350</th>\n",
       "      <td>2016-04-28 09:27:00</td>\n",
       "      <td>only apple user dey enjoy snapchat Android use...</td>\n",
       "      <td>0.716667</td>\n",
       "      <td>0.250000</td>\n",
       "    </tr>\n",
       "    <tr>\n",
       "      <th>118351</th>\n",
       "      <td>2016-04-28 09:27:00</td>\n",
       "      <td>about to have -PRON- shit blow up lol Apple do...</td>\n",
       "      <td>0.672222</td>\n",
       "      <td>0.116667</td>\n",
       "    </tr>\n",
       "    <tr>\n",
       "      <th>118352</th>\n",
       "      <td>2016-04-28 09:27:00</td>\n",
       "      <td>new APPLE ipad MINI case COVERSCREEN PROTECTOR...</td>\n",
       "      <td>0.377273</td>\n",
       "      <td>0.018182</td>\n",
       "    </tr>\n",
       "    <tr>\n",
       "      <th>118353</th>\n",
       "      <td>2016-04-28 09:27:00</td>\n",
       "      <td>Flashback   Techie Gift Guide for -PRON- and -...</td>\n",
       "      <td>0.000000</td>\n",
       "      <td>0.000000</td>\n",
       "    </tr>\n",
       "    <tr>\n",
       "      <th>118354</th>\n",
       "      <td>2016-04-28 09:27:00</td>\n",
       "      <td>like an apple hang from a tree   DolceAmoreBeg...</td>\n",
       "      <td>0.000000</td>\n",
       "      <td>0.000000</td>\n",
       "    </tr>\n",
       "  </tbody>\n",
       "</table>\n",
       "<p>118350 rows × 4 columns</p>\n",
       "</div>"
      ],
      "text/plain": [
       "                       date  \\\n",
       "0       2016-04-29 09:10:00   \n",
       "1       2016-04-29 09:10:00   \n",
       "2       2016-04-29 09:10:00   \n",
       "3       2016-04-29 09:10:00   \n",
       "4       2016-04-29 09:09:00   \n",
       "...                     ...   \n",
       "118350  2016-04-28 09:27:00   \n",
       "118351  2016-04-28 09:27:00   \n",
       "118352  2016-04-28 09:27:00   \n",
       "118353  2016-04-28 09:27:00   \n",
       "118354  2016-04-28 09:27:00   \n",
       "\n",
       "                                                     text  Subjectivity  \\\n",
       "0                                     Dude   fuck amazing      0.750000   \n",
       "1              Apple iPod classic   Generation Black   GB      0.300000   \n",
       "2       Apple iPhone      Gold Sprint Clean Serial num...      0.700000   \n",
       "3       get Jokey Smurfs brand smurfin new hut to play...      0.427273   \n",
       "4       enjoy listen to -PRON- know -PRON- be trouble ...      0.411905   \n",
       "...                                                   ...           ...   \n",
       "118350  only apple user dey enjoy snapchat Android use...      0.716667   \n",
       "118351  about to have -PRON- shit blow up lol Apple do...      0.672222   \n",
       "118352  new APPLE ipad MINI case COVERSCREEN PROTECTOR...      0.377273   \n",
       "118353  Flashback   Techie Gift Guide for -PRON- and -...      0.000000   \n",
       "118354  like an apple hang from a tree   DolceAmoreBeg...      0.000000   \n",
       "\n",
       "        Polarity  \n",
       "0       0.100000  \n",
       "1       0.000000  \n",
       "2       0.366667  \n",
       "3      -0.131818  \n",
       "4       0.161905  \n",
       "...          ...  \n",
       "118350  0.250000  \n",
       "118351  0.116667  \n",
       "118352  0.018182  \n",
       "118353  0.000000  \n",
       "118354  0.000000  \n",
       "\n",
       "[118350 rows x 4 columns]"
      ]
     },
     "execution_count": 44,
     "metadata": {},
     "output_type": "execute_result"
    }
   ],
   "source": [
    "df"
   ]
  },
  {
   "cell_type": "code",
   "execution_count": 47,
   "metadata": {},
   "outputs": [],
   "source": [
    "df[\"date\"] = pd.to_datetime(df[\"date\"])"
   ]
  },
  {
   "cell_type": "code",
   "execution_count": 52,
   "metadata": {},
   "outputs": [],
   "source": [
    "df[\"day\"] = df[\"date\"].dt.date"
   ]
  },
  {
   "cell_type": "code",
   "execution_count": 71,
   "metadata": {},
   "outputs": [],
   "source": [
    "df[\"hour\"] = df[\"date\"].apply(lambda date: str(date)[:-6] + \":00:00\")"
   ]
  },
  {
   "cell_type": "code",
   "execution_count": 73,
   "metadata": {},
   "outputs": [
    {
     "data": {
      "text/plain": [
       "Timestamp('2016-04-28 09:27:00')"
      ]
     },
     "execution_count": 73,
     "metadata": {},
     "output_type": "execute_result"
    }
   ],
   "source": [
    "df[\"date\"].min()"
   ]
  },
  {
   "cell_type": "code",
   "execution_count": 75,
   "metadata": {},
   "outputs": [
    {
     "data": {
      "text/plain": [
       "Timestamp('2016-04-29 09:10:00')"
      ]
     },
     "execution_count": 75,
     "metadata": {},
     "output_type": "execute_result"
    }
   ],
   "source": [
    "df[\"date\"].max()"
   ]
  },
  {
   "cell_type": "code",
   "execution_count": 76,
   "metadata": {},
   "outputs": [
    {
     "data": {
      "text/html": [
       "<div>\n",
       "<style scoped>\n",
       "    .dataframe tbody tr th:only-of-type {\n",
       "        vertical-align: middle;\n",
       "    }\n",
       "\n",
       "    .dataframe tbody tr th {\n",
       "        vertical-align: top;\n",
       "    }\n",
       "\n",
       "    .dataframe thead th {\n",
       "        text-align: right;\n",
       "    }\n",
       "</style>\n",
       "<table border=\"1\" class=\"dataframe\">\n",
       "  <thead>\n",
       "    <tr style=\"text-align: right;\">\n",
       "      <th></th>\n",
       "      <th>date</th>\n",
       "      <th>text</th>\n",
       "      <th>Subjectivity</th>\n",
       "      <th>Polarity</th>\n",
       "      <th>day</th>\n",
       "    </tr>\n",
       "    <tr>\n",
       "      <th>hour</th>\n",
       "      <th></th>\n",
       "      <th></th>\n",
       "      <th></th>\n",
       "      <th></th>\n",
       "      <th></th>\n",
       "    </tr>\n",
       "  </thead>\n",
       "  <tbody>\n",
       "    <tr>\n",
       "      <th>2016-04-28 09:00:00</th>\n",
       "      <td>3964</td>\n",
       "      <td>3964</td>\n",
       "      <td>3964</td>\n",
       "      <td>3964</td>\n",
       "      <td>3964</td>\n",
       "    </tr>\n",
       "    <tr>\n",
       "      <th>2016-04-28 10:00:00</th>\n",
       "      <td>4121</td>\n",
       "      <td>4121</td>\n",
       "      <td>4121</td>\n",
       "      <td>4121</td>\n",
       "      <td>4121</td>\n",
       "    </tr>\n",
       "    <tr>\n",
       "      <th>2016-04-28 11:00:00</th>\n",
       "      <td>844</td>\n",
       "      <td>844</td>\n",
       "      <td>844</td>\n",
       "      <td>844</td>\n",
       "      <td>844</td>\n",
       "    </tr>\n",
       "    <tr>\n",
       "      <th>2016-04-28 12:00:00</th>\n",
       "      <td>1626</td>\n",
       "      <td>1626</td>\n",
       "      <td>1626</td>\n",
       "      <td>1626</td>\n",
       "      <td>1626</td>\n",
       "    </tr>\n",
       "    <tr>\n",
       "      <th>2016-04-28 14:00:00</th>\n",
       "      <td>10402</td>\n",
       "      <td>10402</td>\n",
       "      <td>10402</td>\n",
       "      <td>10402</td>\n",
       "      <td>10402</td>\n",
       "    </tr>\n",
       "    <tr>\n",
       "      <th>2016-04-28 15:00:00</th>\n",
       "      <td>1520</td>\n",
       "      <td>1520</td>\n",
       "      <td>1520</td>\n",
       "      <td>1520</td>\n",
       "      <td>1520</td>\n",
       "    </tr>\n",
       "    <tr>\n",
       "      <th>2016-04-28 16:00:00</th>\n",
       "      <td>3877</td>\n",
       "      <td>3877</td>\n",
       "      <td>3877</td>\n",
       "      <td>3877</td>\n",
       "      <td>3877</td>\n",
       "    </tr>\n",
       "    <tr>\n",
       "      <th>2016-04-28 17:00:00</th>\n",
       "      <td>3035</td>\n",
       "      <td>3035</td>\n",
       "      <td>3035</td>\n",
       "      <td>3035</td>\n",
       "      <td>3035</td>\n",
       "    </tr>\n",
       "    <tr>\n",
       "      <th>2016-04-28 18:00:00</th>\n",
       "      <td>7059</td>\n",
       "      <td>7059</td>\n",
       "      <td>7059</td>\n",
       "      <td>7059</td>\n",
       "      <td>7059</td>\n",
       "    </tr>\n",
       "    <tr>\n",
       "      <th>2016-04-28 19:00:00</th>\n",
       "      <td>4100</td>\n",
       "      <td>4100</td>\n",
       "      <td>4100</td>\n",
       "      <td>4100</td>\n",
       "      <td>4100</td>\n",
       "    </tr>\n",
       "    <tr>\n",
       "      <th>2016-04-28 20:00:00</th>\n",
       "      <td>1611</td>\n",
       "      <td>1611</td>\n",
       "      <td>1611</td>\n",
       "      <td>1611</td>\n",
       "      <td>1611</td>\n",
       "    </tr>\n",
       "    <tr>\n",
       "      <th>2016-04-28 21:00:00</th>\n",
       "      <td>9643</td>\n",
       "      <td>9643</td>\n",
       "      <td>9643</td>\n",
       "      <td>9643</td>\n",
       "      <td>9643</td>\n",
       "    </tr>\n",
       "    <tr>\n",
       "      <th>2016-04-28 22:00:00</th>\n",
       "      <td>6031</td>\n",
       "      <td>6031</td>\n",
       "      <td>6031</td>\n",
       "      <td>6031</td>\n",
       "      <td>6031</td>\n",
       "    </tr>\n",
       "    <tr>\n",
       "      <th>2016-04-28 23:00:00</th>\n",
       "      <td>4830</td>\n",
       "      <td>4830</td>\n",
       "      <td>4830</td>\n",
       "      <td>4830</td>\n",
       "      <td>4830</td>\n",
       "    </tr>\n",
       "    <tr>\n",
       "      <th>2016-04-29 00:00:00</th>\n",
       "      <td>934</td>\n",
       "      <td>934</td>\n",
       "      <td>934</td>\n",
       "      <td>934</td>\n",
       "      <td>934</td>\n",
       "    </tr>\n",
       "    <tr>\n",
       "      <th>2016-04-29 01:00:00</th>\n",
       "      <td>13127</td>\n",
       "      <td>13127</td>\n",
       "      <td>13127</td>\n",
       "      <td>13127</td>\n",
       "      <td>13127</td>\n",
       "    </tr>\n",
       "    <tr>\n",
       "      <th>2016-04-29 02:00:00</th>\n",
       "      <td>12781</td>\n",
       "      <td>12781</td>\n",
       "      <td>12781</td>\n",
       "      <td>12781</td>\n",
       "      <td>12781</td>\n",
       "    </tr>\n",
       "    <tr>\n",
       "      <th>2016-04-29 03:00:00</th>\n",
       "      <td>4910</td>\n",
       "      <td>4910</td>\n",
       "      <td>4910</td>\n",
       "      <td>4910</td>\n",
       "      <td>4910</td>\n",
       "    </tr>\n",
       "    <tr>\n",
       "      <th>2016-04-29 04:00:00</th>\n",
       "      <td>8880</td>\n",
       "      <td>8880</td>\n",
       "      <td>8880</td>\n",
       "      <td>8880</td>\n",
       "      <td>8880</td>\n",
       "    </tr>\n",
       "    <tr>\n",
       "      <th>2016-04-29 05:00:00</th>\n",
       "      <td>1129</td>\n",
       "      <td>1129</td>\n",
       "      <td>1129</td>\n",
       "      <td>1129</td>\n",
       "      <td>1129</td>\n",
       "    </tr>\n",
       "    <tr>\n",
       "      <th>2016-04-29 06:00:00</th>\n",
       "      <td>5605</td>\n",
       "      <td>5605</td>\n",
       "      <td>5605</td>\n",
       "      <td>5605</td>\n",
       "      <td>5605</td>\n",
       "    </tr>\n",
       "    <tr>\n",
       "      <th>2016-04-29 07:00:00</th>\n",
       "      <td>2614</td>\n",
       "      <td>2614</td>\n",
       "      <td>2614</td>\n",
       "      <td>2614</td>\n",
       "      <td>2614</td>\n",
       "    </tr>\n",
       "    <tr>\n",
       "      <th>2016-04-29 08:00:00</th>\n",
       "      <td>4850</td>\n",
       "      <td>4850</td>\n",
       "      <td>4850</td>\n",
       "      <td>4850</td>\n",
       "      <td>4850</td>\n",
       "    </tr>\n",
       "    <tr>\n",
       "      <th>2016-04-29 09:00:00</th>\n",
       "      <td>857</td>\n",
       "      <td>857</td>\n",
       "      <td>857</td>\n",
       "      <td>857</td>\n",
       "      <td>857</td>\n",
       "    </tr>\n",
       "  </tbody>\n",
       "</table>\n",
       "</div>"
      ],
      "text/plain": [
       "                      date   text  Subjectivity  Polarity    day\n",
       "hour                                                            \n",
       "2016-04-28 09:00:00   3964   3964          3964      3964   3964\n",
       "2016-04-28 10:00:00   4121   4121          4121      4121   4121\n",
       "2016-04-28 11:00:00    844    844           844       844    844\n",
       "2016-04-28 12:00:00   1626   1626          1626      1626   1626\n",
       "2016-04-28 14:00:00  10402  10402         10402     10402  10402\n",
       "2016-04-28 15:00:00   1520   1520          1520      1520   1520\n",
       "2016-04-28 16:00:00   3877   3877          3877      3877   3877\n",
       "2016-04-28 17:00:00   3035   3035          3035      3035   3035\n",
       "2016-04-28 18:00:00   7059   7059          7059      7059   7059\n",
       "2016-04-28 19:00:00   4100   4100          4100      4100   4100\n",
       "2016-04-28 20:00:00   1611   1611          1611      1611   1611\n",
       "2016-04-28 21:00:00   9643   9643          9643      9643   9643\n",
       "2016-04-28 22:00:00   6031   6031          6031      6031   6031\n",
       "2016-04-28 23:00:00   4830   4830          4830      4830   4830\n",
       "2016-04-29 00:00:00    934    934           934       934    934\n",
       "2016-04-29 01:00:00  13127  13127         13127     13127  13127\n",
       "2016-04-29 02:00:00  12781  12781         12781     12781  12781\n",
       "2016-04-29 03:00:00   4910   4910          4910      4910   4910\n",
       "2016-04-29 04:00:00   8880   8880          8880      8880   8880\n",
       "2016-04-29 05:00:00   1129   1129          1129      1129   1129\n",
       "2016-04-29 06:00:00   5605   5605          5605      5605   5605\n",
       "2016-04-29 07:00:00   2614   2614          2614      2614   2614\n",
       "2016-04-29 08:00:00   4850   4850          4850      4850   4850\n",
       "2016-04-29 09:00:00    857    857           857       857    857"
      ]
     },
     "execution_count": 76,
     "metadata": {},
     "output_type": "execute_result"
    }
   ],
   "source": [
    "df.groupby(\"hour\").count()"
   ]
  },
  {
   "cell_type": "code",
   "execution_count": 30,
   "metadata": {},
   "outputs": [],
   "source": [
    "X = df.drop(TARGET, axis=1)\n",
    "y = df[TARGET]"
   ]
  },
  {
   "cell_type": "code",
   "execution_count": 31,
   "metadata": {},
   "outputs": [
    {
     "name": "stdout",
     "output_type": "stream",
     "text": [
      "X_train shape: (24728, 1)\n",
      "X_test shape: (2748, 1)\n"
     ]
    }
   ],
   "source": [
    "X_train, X_test, y_train, y_test = train_test_split(X, y, test_size=0.1, random_state=42)\n",
    "print(\"X_train shape:\", X_train.shape)\n",
    "print(\"X_test shape:\", X_test.shape)"
   ]
  },
  {
   "cell_type": "code",
   "execution_count": 32,
   "metadata": {},
   "outputs": [],
   "source": [
    "X_train_vectorized = vectorizer.fit_transform(X_train[\"text\"])\n",
    "X_test_vectorized = vectorizer.transform(X_test[\"text\"])"
   ]
  },
  {
   "cell_type": "code",
   "execution_count": 33,
   "metadata": {},
   "outputs": [
    {
     "name": "stdout",
     "output_type": "stream",
     "text": [
      "X_train_vectorized shape: (24728, 1419)\n",
      "X_test_vectorized shape: (2748, 1419)\n"
     ]
    }
   ],
   "source": [
    "print(\"X_train_vectorized shape:\", X_train_vectorized.shape)\n",
    "print(\"X_test_vectorized shape:\", X_test_vectorized.shape)"
   ]
  },
  {
   "cell_type": "code",
   "execution_count": 34,
   "metadata": {},
   "outputs": [],
   "source": [
    "X_train_t = pd.concat([pd.DataFrame(X_train_vectorized.toarray(), index=X_train.index), X_train.drop(\"text\",axis=1)], axis=1)\n",
    "X_test_t = pd.concat([pd.DataFrame(X_test_vectorized.toarray(), index=X_test.index), X_test.drop(\"text\",axis=1)], axis=1)"
   ]
  },
  {
   "cell_type": "code",
   "execution_count": 35,
   "metadata": {},
   "outputs": [
    {
     "name": "stdout",
     "output_type": "stream",
     "text": [
      "X_train shape: (24728, 1419)\n",
      "X_test shape: (2748, 1419)\n"
     ]
    }
   ],
   "source": [
    "print(\"X_train shape:\", X_train_t.shape)\n",
    "print(\"X_test shape:\", X_test_t.shape)"
   ]
  },
  {
   "cell_type": "code",
   "execution_count": 37,
   "metadata": {},
   "outputs": [
    {
     "name": "stdout",
     "output_type": "stream",
     "text": [
      "[LibSVM]"
     ]
    },
    {
     "ename": "KeyboardInterrupt",
     "evalue": "",
     "output_type": "error",
     "traceback": [
      "\u001b[0;31m---------------------------------------------------------------------------\u001b[0m",
      "\u001b[0;31mKeyboardInterrupt\u001b[0m                         Traceback (most recent call last)",
      "\u001b[0;32m<ipython-input-37-1f309d94dc61>\u001b[0m in \u001b[0;36m<module>\u001b[0;34m\u001b[0m\n\u001b[1;32m      5\u001b[0m \u001b[0;34m\u001b[0m\u001b[0m\n\u001b[1;32m      6\u001b[0m \u001b[0mmcc\u001b[0m \u001b[0;34m=\u001b[0m \u001b[0mOneVsRestClassifier\u001b[0m\u001b[0;34m(\u001b[0m\u001b[0mSVC\u001b[0m\u001b[0;34m(\u001b[0m\u001b[0mverbose\u001b[0m\u001b[0;34m=\u001b[0m\u001b[0;36m1\u001b[0m\u001b[0;34m)\u001b[0m\u001b[0;34m)\u001b[0m\u001b[0;34m\u001b[0m\u001b[0;34m\u001b[0m\u001b[0m\n\u001b[0;32m----> 7\u001b[0;31m \u001b[0mmcc\u001b[0m\u001b[0;34m.\u001b[0m\u001b[0mfit\u001b[0m\u001b[0;34m(\u001b[0m\u001b[0mX_train_t\u001b[0m\u001b[0;34m,\u001b[0m \u001b[0my_train\u001b[0m\u001b[0;34m)\u001b[0m\u001b[0;34m\u001b[0m\u001b[0;34m\u001b[0m\u001b[0m\n\u001b[0m\u001b[1;32m      8\u001b[0m \u001b[0my_pred\u001b[0m \u001b[0;34m=\u001b[0m \u001b[0mmcc\u001b[0m\u001b[0;34m.\u001b[0m\u001b[0mpredict\u001b[0m\u001b[0;34m(\u001b[0m\u001b[0mX_test_t\u001b[0m\u001b[0;34m)\u001b[0m\u001b[0;34m\u001b[0m\u001b[0;34m\u001b[0m\u001b[0m\n",
      "\u001b[0;32m~/anaconda3/lib/python3.6/site-packages/sklearn/multiclass.py\u001b[0m in \u001b[0;36mfit\u001b[0;34m(self, X, y)\u001b[0m\n\u001b[1;32m    243\u001b[0m                 \u001b[0;34m\"not %s\"\u001b[0m \u001b[0;34m%\u001b[0m \u001b[0mself\u001b[0m\u001b[0;34m.\u001b[0m\u001b[0mlabel_binarizer_\u001b[0m\u001b[0;34m.\u001b[0m\u001b[0mclasses_\u001b[0m\u001b[0;34m[\u001b[0m\u001b[0mi\u001b[0m\u001b[0;34m]\u001b[0m\u001b[0;34m,\u001b[0m\u001b[0;34m\u001b[0m\u001b[0;34m\u001b[0m\u001b[0m\n\u001b[1;32m    244\u001b[0m                 self.label_binarizer_.classes_[i]])\n\u001b[0;32m--> 245\u001b[0;31m             for i, column in enumerate(columns))\n\u001b[0m\u001b[1;32m    246\u001b[0m \u001b[0;34m\u001b[0m\u001b[0m\n\u001b[1;32m    247\u001b[0m         \u001b[0;32mreturn\u001b[0m \u001b[0mself\u001b[0m\u001b[0;34m\u001b[0m\u001b[0;34m\u001b[0m\u001b[0m\n",
      "\u001b[0;32m~/anaconda3/lib/python3.6/site-packages/joblib/parallel.py\u001b[0m in \u001b[0;36m__call__\u001b[0;34m(self, iterable)\u001b[0m\n\u001b[1;32m   1039\u001b[0m             \u001b[0;31m# remaining jobs.\u001b[0m\u001b[0;34m\u001b[0m\u001b[0;34m\u001b[0m\u001b[0;34m\u001b[0m\u001b[0m\n\u001b[1;32m   1040\u001b[0m             \u001b[0mself\u001b[0m\u001b[0;34m.\u001b[0m\u001b[0m_iterating\u001b[0m \u001b[0;34m=\u001b[0m \u001b[0;32mFalse\u001b[0m\u001b[0;34m\u001b[0m\u001b[0;34m\u001b[0m\u001b[0m\n\u001b[0;32m-> 1041\u001b[0;31m             \u001b[0;32mif\u001b[0m \u001b[0mself\u001b[0m\u001b[0;34m.\u001b[0m\u001b[0mdispatch_one_batch\u001b[0m\u001b[0;34m(\u001b[0m\u001b[0miterator\u001b[0m\u001b[0;34m)\u001b[0m\u001b[0;34m:\u001b[0m\u001b[0;34m\u001b[0m\u001b[0;34m\u001b[0m\u001b[0m\n\u001b[0m\u001b[1;32m   1042\u001b[0m                 \u001b[0mself\u001b[0m\u001b[0;34m.\u001b[0m\u001b[0m_iterating\u001b[0m \u001b[0;34m=\u001b[0m \u001b[0mself\u001b[0m\u001b[0;34m.\u001b[0m\u001b[0m_original_iterator\u001b[0m \u001b[0;32mis\u001b[0m \u001b[0;32mnot\u001b[0m \u001b[0;32mNone\u001b[0m\u001b[0;34m\u001b[0m\u001b[0;34m\u001b[0m\u001b[0m\n\u001b[1;32m   1043\u001b[0m \u001b[0;34m\u001b[0m\u001b[0m\n",
      "\u001b[0;32m~/anaconda3/lib/python3.6/site-packages/joblib/parallel.py\u001b[0m in \u001b[0;36mdispatch_one_batch\u001b[0;34m(self, iterator)\u001b[0m\n\u001b[1;32m    857\u001b[0m                 \u001b[0;32mreturn\u001b[0m \u001b[0;32mFalse\u001b[0m\u001b[0;34m\u001b[0m\u001b[0;34m\u001b[0m\u001b[0m\n\u001b[1;32m    858\u001b[0m             \u001b[0;32melse\u001b[0m\u001b[0;34m:\u001b[0m\u001b[0;34m\u001b[0m\u001b[0;34m\u001b[0m\u001b[0m\n\u001b[0;32m--> 859\u001b[0;31m                 \u001b[0mself\u001b[0m\u001b[0;34m.\u001b[0m\u001b[0m_dispatch\u001b[0m\u001b[0;34m(\u001b[0m\u001b[0mtasks\u001b[0m\u001b[0;34m)\u001b[0m\u001b[0;34m\u001b[0m\u001b[0;34m\u001b[0m\u001b[0m\n\u001b[0m\u001b[1;32m    860\u001b[0m                 \u001b[0;32mreturn\u001b[0m \u001b[0;32mTrue\u001b[0m\u001b[0;34m\u001b[0m\u001b[0;34m\u001b[0m\u001b[0m\n\u001b[1;32m    861\u001b[0m \u001b[0;34m\u001b[0m\u001b[0m\n",
      "\u001b[0;32m~/anaconda3/lib/python3.6/site-packages/joblib/parallel.py\u001b[0m in \u001b[0;36m_dispatch\u001b[0;34m(self, batch)\u001b[0m\n\u001b[1;32m    775\u001b[0m         \u001b[0;32mwith\u001b[0m \u001b[0mself\u001b[0m\u001b[0;34m.\u001b[0m\u001b[0m_lock\u001b[0m\u001b[0;34m:\u001b[0m\u001b[0;34m\u001b[0m\u001b[0;34m\u001b[0m\u001b[0m\n\u001b[1;32m    776\u001b[0m             \u001b[0mjob_idx\u001b[0m \u001b[0;34m=\u001b[0m \u001b[0mlen\u001b[0m\u001b[0;34m(\u001b[0m\u001b[0mself\u001b[0m\u001b[0;34m.\u001b[0m\u001b[0m_jobs\u001b[0m\u001b[0;34m)\u001b[0m\u001b[0;34m\u001b[0m\u001b[0;34m\u001b[0m\u001b[0m\n\u001b[0;32m--> 777\u001b[0;31m             \u001b[0mjob\u001b[0m \u001b[0;34m=\u001b[0m \u001b[0mself\u001b[0m\u001b[0;34m.\u001b[0m\u001b[0m_backend\u001b[0m\u001b[0;34m.\u001b[0m\u001b[0mapply_async\u001b[0m\u001b[0;34m(\u001b[0m\u001b[0mbatch\u001b[0m\u001b[0;34m,\u001b[0m \u001b[0mcallback\u001b[0m\u001b[0;34m=\u001b[0m\u001b[0mcb\u001b[0m\u001b[0;34m)\u001b[0m\u001b[0;34m\u001b[0m\u001b[0;34m\u001b[0m\u001b[0m\n\u001b[0m\u001b[1;32m    778\u001b[0m             \u001b[0;31m# A job can complete so quickly than its callback is\u001b[0m\u001b[0;34m\u001b[0m\u001b[0;34m\u001b[0m\u001b[0;34m\u001b[0m\u001b[0m\n\u001b[1;32m    779\u001b[0m             \u001b[0;31m# called before we get here, causing self._jobs to\u001b[0m\u001b[0;34m\u001b[0m\u001b[0;34m\u001b[0m\u001b[0;34m\u001b[0m\u001b[0m\n",
      "\u001b[0;32m~/anaconda3/lib/python3.6/site-packages/joblib/_parallel_backends.py\u001b[0m in \u001b[0;36mapply_async\u001b[0;34m(self, func, callback)\u001b[0m\n\u001b[1;32m    206\u001b[0m     \u001b[0;32mdef\u001b[0m \u001b[0mapply_async\u001b[0m\u001b[0;34m(\u001b[0m\u001b[0mself\u001b[0m\u001b[0;34m,\u001b[0m \u001b[0mfunc\u001b[0m\u001b[0;34m,\u001b[0m \u001b[0mcallback\u001b[0m\u001b[0;34m=\u001b[0m\u001b[0;32mNone\u001b[0m\u001b[0;34m)\u001b[0m\u001b[0;34m:\u001b[0m\u001b[0;34m\u001b[0m\u001b[0;34m\u001b[0m\u001b[0m\n\u001b[1;32m    207\u001b[0m         \u001b[0;34m\"\"\"Schedule a func to be run\"\"\"\u001b[0m\u001b[0;34m\u001b[0m\u001b[0;34m\u001b[0m\u001b[0m\n\u001b[0;32m--> 208\u001b[0;31m         \u001b[0mresult\u001b[0m \u001b[0;34m=\u001b[0m \u001b[0mImmediateResult\u001b[0m\u001b[0;34m(\u001b[0m\u001b[0mfunc\u001b[0m\u001b[0;34m)\u001b[0m\u001b[0;34m\u001b[0m\u001b[0;34m\u001b[0m\u001b[0m\n\u001b[0m\u001b[1;32m    209\u001b[0m         \u001b[0;32mif\u001b[0m \u001b[0mcallback\u001b[0m\u001b[0;34m:\u001b[0m\u001b[0;34m\u001b[0m\u001b[0;34m\u001b[0m\u001b[0m\n\u001b[1;32m    210\u001b[0m             \u001b[0mcallback\u001b[0m\u001b[0;34m(\u001b[0m\u001b[0mresult\u001b[0m\u001b[0;34m)\u001b[0m\u001b[0;34m\u001b[0m\u001b[0;34m\u001b[0m\u001b[0m\n",
      "\u001b[0;32m~/anaconda3/lib/python3.6/site-packages/joblib/_parallel_backends.py\u001b[0m in \u001b[0;36m__init__\u001b[0;34m(self, batch)\u001b[0m\n\u001b[1;32m    570\u001b[0m         \u001b[0;31m# Don't delay the application, to avoid keeping the input\u001b[0m\u001b[0;34m\u001b[0m\u001b[0;34m\u001b[0m\u001b[0;34m\u001b[0m\u001b[0m\n\u001b[1;32m    571\u001b[0m         \u001b[0;31m# arguments in memory\u001b[0m\u001b[0;34m\u001b[0m\u001b[0;34m\u001b[0m\u001b[0;34m\u001b[0m\u001b[0m\n\u001b[0;32m--> 572\u001b[0;31m         \u001b[0mself\u001b[0m\u001b[0;34m.\u001b[0m\u001b[0mresults\u001b[0m \u001b[0;34m=\u001b[0m \u001b[0mbatch\u001b[0m\u001b[0;34m(\u001b[0m\u001b[0;34m)\u001b[0m\u001b[0;34m\u001b[0m\u001b[0;34m\u001b[0m\u001b[0m\n\u001b[0m\u001b[1;32m    573\u001b[0m \u001b[0;34m\u001b[0m\u001b[0m\n\u001b[1;32m    574\u001b[0m     \u001b[0;32mdef\u001b[0m \u001b[0mget\u001b[0m\u001b[0;34m(\u001b[0m\u001b[0mself\u001b[0m\u001b[0;34m)\u001b[0m\u001b[0;34m:\u001b[0m\u001b[0;34m\u001b[0m\u001b[0;34m\u001b[0m\u001b[0m\n",
      "\u001b[0;32m~/anaconda3/lib/python3.6/site-packages/joblib/parallel.py\u001b[0m in \u001b[0;36m__call__\u001b[0;34m(self)\u001b[0m\n\u001b[1;32m    261\u001b[0m         \u001b[0;32mwith\u001b[0m \u001b[0mparallel_backend\u001b[0m\u001b[0;34m(\u001b[0m\u001b[0mself\u001b[0m\u001b[0;34m.\u001b[0m\u001b[0m_backend\u001b[0m\u001b[0;34m,\u001b[0m \u001b[0mn_jobs\u001b[0m\u001b[0;34m=\u001b[0m\u001b[0mself\u001b[0m\u001b[0;34m.\u001b[0m\u001b[0m_n_jobs\u001b[0m\u001b[0;34m)\u001b[0m\u001b[0;34m:\u001b[0m\u001b[0;34m\u001b[0m\u001b[0;34m\u001b[0m\u001b[0m\n\u001b[1;32m    262\u001b[0m             return [func(*args, **kwargs)\n\u001b[0;32m--> 263\u001b[0;31m                     for func, args, kwargs in self.items]\n\u001b[0m\u001b[1;32m    264\u001b[0m \u001b[0;34m\u001b[0m\u001b[0m\n\u001b[1;32m    265\u001b[0m     \u001b[0;32mdef\u001b[0m \u001b[0m__reduce__\u001b[0m\u001b[0;34m(\u001b[0m\u001b[0mself\u001b[0m\u001b[0;34m)\u001b[0m\u001b[0;34m:\u001b[0m\u001b[0;34m\u001b[0m\u001b[0;34m\u001b[0m\u001b[0m\n",
      "\u001b[0;32m~/anaconda3/lib/python3.6/site-packages/joblib/parallel.py\u001b[0m in \u001b[0;36m<listcomp>\u001b[0;34m(.0)\u001b[0m\n\u001b[1;32m    261\u001b[0m         \u001b[0;32mwith\u001b[0m \u001b[0mparallel_backend\u001b[0m\u001b[0;34m(\u001b[0m\u001b[0mself\u001b[0m\u001b[0;34m.\u001b[0m\u001b[0m_backend\u001b[0m\u001b[0;34m,\u001b[0m \u001b[0mn_jobs\u001b[0m\u001b[0;34m=\u001b[0m\u001b[0mself\u001b[0m\u001b[0;34m.\u001b[0m\u001b[0m_n_jobs\u001b[0m\u001b[0;34m)\u001b[0m\u001b[0;34m:\u001b[0m\u001b[0;34m\u001b[0m\u001b[0;34m\u001b[0m\u001b[0m\n\u001b[1;32m    262\u001b[0m             return [func(*args, **kwargs)\n\u001b[0;32m--> 263\u001b[0;31m                     for func, args, kwargs in self.items]\n\u001b[0m\u001b[1;32m    264\u001b[0m \u001b[0;34m\u001b[0m\u001b[0m\n\u001b[1;32m    265\u001b[0m     \u001b[0;32mdef\u001b[0m \u001b[0m__reduce__\u001b[0m\u001b[0;34m(\u001b[0m\u001b[0mself\u001b[0m\u001b[0;34m)\u001b[0m\u001b[0;34m:\u001b[0m\u001b[0;34m\u001b[0m\u001b[0;34m\u001b[0m\u001b[0m\n",
      "\u001b[0;32m~/anaconda3/lib/python3.6/site-packages/sklearn/multiclass.py\u001b[0m in \u001b[0;36m_fit_binary\u001b[0;34m(estimator, X, y, classes)\u001b[0m\n\u001b[1;32m     79\u001b[0m     \u001b[0;32melse\u001b[0m\u001b[0;34m:\u001b[0m\u001b[0;34m\u001b[0m\u001b[0;34m\u001b[0m\u001b[0m\n\u001b[1;32m     80\u001b[0m         \u001b[0mestimator\u001b[0m \u001b[0;34m=\u001b[0m \u001b[0mclone\u001b[0m\u001b[0;34m(\u001b[0m\u001b[0mestimator\u001b[0m\u001b[0;34m)\u001b[0m\u001b[0;34m\u001b[0m\u001b[0;34m\u001b[0m\u001b[0m\n\u001b[0;32m---> 81\u001b[0;31m         \u001b[0mestimator\u001b[0m\u001b[0;34m.\u001b[0m\u001b[0mfit\u001b[0m\u001b[0;34m(\u001b[0m\u001b[0mX\u001b[0m\u001b[0;34m,\u001b[0m \u001b[0my\u001b[0m\u001b[0;34m)\u001b[0m\u001b[0;34m\u001b[0m\u001b[0;34m\u001b[0m\u001b[0m\n\u001b[0m\u001b[1;32m     82\u001b[0m     \u001b[0;32mreturn\u001b[0m \u001b[0mestimator\u001b[0m\u001b[0;34m\u001b[0m\u001b[0;34m\u001b[0m\u001b[0m\n\u001b[1;32m     83\u001b[0m \u001b[0;34m\u001b[0m\u001b[0m\n",
      "\u001b[0;32m~/anaconda3/lib/python3.6/site-packages/sklearn/svm/_base.py\u001b[0m in \u001b[0;36mfit\u001b[0;34m(self, X, y, sample_weight)\u001b[0m\n\u001b[1;32m    215\u001b[0m \u001b[0;34m\u001b[0m\u001b[0m\n\u001b[1;32m    216\u001b[0m         \u001b[0mseed\u001b[0m \u001b[0;34m=\u001b[0m \u001b[0mrnd\u001b[0m\u001b[0;34m.\u001b[0m\u001b[0mrandint\u001b[0m\u001b[0;34m(\u001b[0m\u001b[0mnp\u001b[0m\u001b[0;34m.\u001b[0m\u001b[0miinfo\u001b[0m\u001b[0;34m(\u001b[0m\u001b[0;34m'i'\u001b[0m\u001b[0;34m)\u001b[0m\u001b[0;34m.\u001b[0m\u001b[0mmax\u001b[0m\u001b[0;34m)\u001b[0m\u001b[0;34m\u001b[0m\u001b[0;34m\u001b[0m\u001b[0m\n\u001b[0;32m--> 217\u001b[0;31m         \u001b[0mfit\u001b[0m\u001b[0;34m(\u001b[0m\u001b[0mX\u001b[0m\u001b[0;34m,\u001b[0m \u001b[0my\u001b[0m\u001b[0;34m,\u001b[0m \u001b[0msample_weight\u001b[0m\u001b[0;34m,\u001b[0m \u001b[0msolver_type\u001b[0m\u001b[0;34m,\u001b[0m \u001b[0mkernel\u001b[0m\u001b[0;34m,\u001b[0m \u001b[0mrandom_seed\u001b[0m\u001b[0;34m=\u001b[0m\u001b[0mseed\u001b[0m\u001b[0;34m)\u001b[0m\u001b[0;34m\u001b[0m\u001b[0;34m\u001b[0m\u001b[0m\n\u001b[0m\u001b[1;32m    218\u001b[0m         \u001b[0;31m# see comment on the other call to np.iinfo in this file\u001b[0m\u001b[0;34m\u001b[0m\u001b[0;34m\u001b[0m\u001b[0;34m\u001b[0m\u001b[0m\n\u001b[1;32m    219\u001b[0m \u001b[0;34m\u001b[0m\u001b[0m\n",
      "\u001b[0;32m~/anaconda3/lib/python3.6/site-packages/sklearn/svm/_base.py\u001b[0m in \u001b[0;36m_dense_fit\u001b[0;34m(self, X, y, sample_weight, solver_type, kernel, random_seed)\u001b[0m\n\u001b[1;32m    274\u001b[0m                 \u001b[0mcache_size\u001b[0m\u001b[0;34m=\u001b[0m\u001b[0mself\u001b[0m\u001b[0;34m.\u001b[0m\u001b[0mcache_size\u001b[0m\u001b[0;34m,\u001b[0m \u001b[0mcoef0\u001b[0m\u001b[0;34m=\u001b[0m\u001b[0mself\u001b[0m\u001b[0;34m.\u001b[0m\u001b[0mcoef0\u001b[0m\u001b[0;34m,\u001b[0m\u001b[0;34m\u001b[0m\u001b[0;34m\u001b[0m\u001b[0m\n\u001b[1;32m    275\u001b[0m                 \u001b[0mgamma\u001b[0m\u001b[0;34m=\u001b[0m\u001b[0mself\u001b[0m\u001b[0;34m.\u001b[0m\u001b[0m_gamma\u001b[0m\u001b[0;34m,\u001b[0m \u001b[0mepsilon\u001b[0m\u001b[0;34m=\u001b[0m\u001b[0mself\u001b[0m\u001b[0;34m.\u001b[0m\u001b[0mepsilon\u001b[0m\u001b[0;34m,\u001b[0m\u001b[0;34m\u001b[0m\u001b[0;34m\u001b[0m\u001b[0m\n\u001b[0;32m--> 276\u001b[0;31m                 max_iter=self.max_iter, random_seed=random_seed)\n\u001b[0m\u001b[1;32m    277\u001b[0m \u001b[0;34m\u001b[0m\u001b[0m\n\u001b[1;32m    278\u001b[0m         \u001b[0mself\u001b[0m\u001b[0;34m.\u001b[0m\u001b[0m_warn_from_fit_status\u001b[0m\u001b[0;34m(\u001b[0m\u001b[0;34m)\u001b[0m\u001b[0;34m\u001b[0m\u001b[0;34m\u001b[0m\u001b[0m\n",
      "\u001b[0;31mKeyboardInterrupt\u001b[0m: "
     ]
    }
   ],
   "source": [
    "from sklearn.svm import LinearSVC\n",
    "from sklearn.multiclass import OneVsRestClassifier\n",
    "from sklearn.metrics import classification_report\n",
    "from sklearn.metrics import accuracy_score\n",
    "\n",
    "mcc = OneVsRestClassifier(SVC(verbose=1))\n",
    "mcc.fit(X_train_t, y_train)\n",
    "y_pred = mcc.predict(X_test_t)"
   ]
  },
  {
   "cell_type": "code",
   "execution_count": null,
   "metadata": {},
   "outputs": [],
   "source": [
    "print(\"Score:\", accuracy_score(y_test, y_pred))"
   ]
  },
  {
   "cell_type": "code",
   "execution_count": null,
   "metadata": {},
   "outputs": [],
   "source": [
    "from sklearn.linear_model import LogisticRegression\n",
    "from sklearn.naive_bayes import GaussianNB\n",
    "from sklearn.neighbors import KNeighborsClassifier\n",
    "mcc = OneVsRestClassifier(GaussianNB())\n",
    "mcc.fit(X_train_t, y_train)\n",
    "y_pred = mcc.predict(X_test_t)"
   ]
  },
  {
   "cell_type": "code",
   "execution_count": null,
   "metadata": {},
   "outputs": [],
   "source": [
    "print(\"Score:\", accuracy_score(y_test, y_pred))\n",
    "print(classification_report(y_test, y_pred))"
   ]
  },
  {
   "cell_type": "code",
   "execution_count": null,
   "metadata": {},
   "outputs": [],
   "source": [
    "from sklearn.metrics import confusion_matrix, plot_confusion_matrix\n",
    "\n",
    "confusion_matrix(y_test, y_pred)"
   ]
  },
  {
   "cell_type": "code",
   "execution_count": null,
   "metadata": {},
   "outputs": [],
   "source": [
    "np.unique(y)"
   ]
  },
  {
   "cell_type": "code",
   "execution_count": null,
   "metadata": {},
   "outputs": [],
   "source": [
    "from sklearn.svm import SVC"
   ]
  },
  {
   "cell_type": "code",
   "execution_count": null,
   "metadata": {},
   "outputs": [],
   "source": [
    "svc = SVC()\n",
    "svc.fit(X_train_vectorized, y_train)"
   ]
  },
  {
   "cell_type": "code",
   "execution_count": null,
   "metadata": {},
   "outputs": [],
   "source": [
    "y_pred = svc.predict(X_test_vectorized)"
   ]
  },
  {
   "cell_type": "code",
   "execution_count": null,
   "metadata": {},
   "outputs": [],
   "source": [
    "from sklearn.metrics import accuracy_score\n",
    "\n",
    "print(\"Score:\", accuracy_score(y_test, y_pred))"
   ]
  },
  {
   "cell_type": "code",
   "execution_count": null,
   "metadata": {},
   "outputs": [],
   "source": [
    "from sklearn.linear_model import LogisticRegression"
   ]
  },
  {
   "cell_type": "code",
   "execution_count": null,
   "metadata": {},
   "outputs": [],
   "source": [
    "lin_reg = LogisticRegression(penalty=\"l1\", solver=\"saga\", C=10, max_iter=100000)\n",
    "lin_reg.fit(X_train_vectorized, y_train)"
   ]
  },
  {
   "cell_type": "code",
   "execution_count": null,
   "metadata": {},
   "outputs": [],
   "source": [
    "y_pred = lin_reg.predict(X_test_vectorized)"
   ]
  },
  {
   "cell_type": "code",
   "execution_count": null,
   "metadata": {},
   "outputs": [],
   "source": [
    "from sklearn.metrics import accuracy_score\n",
    "\n",
    "print(\"Score:\", accuracy_score(y_test, y_pred))"
   ]
  },
  {
   "cell_type": "code",
   "execution_count": null,
   "metadata": {},
   "outputs": [],
   "source": []
  }
 ],
 "metadata": {
  "kernelspec": {
   "display_name": "Python 3",
   "language": "python",
   "name": "python3"
  },
  "language_info": {
   "codemirror_mode": {
    "name": "ipython",
    "version": 3
   },
   "file_extension": ".py",
   "mimetype": "text/x-python",
   "name": "python",
   "nbconvert_exporter": "python",
   "pygments_lexer": "ipython3",
   "version": "3.6.10"
  }
 },
 "nbformat": 4,
 "nbformat_minor": 4
}
