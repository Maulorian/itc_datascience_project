{
 "cells": [
  {
   "cell_type": "code",
   "execution_count": 12,
   "metadata": {},
   "outputs": [
    {
     "name": "stdout",
     "output_type": "stream",
     "text": [
      "Collecting twint\n",
      "  Cloning https://github.com/twintproject/twint.git (to revision origin/master) to /private/var/folders/yq/_tfrpt_53vz7tcq91lgn70800000gn/T/pip-install-3ixgc5t0/twint\n",
      "  Running command git clone -q https://github.com/twintproject/twint.git /private/var/folders/yq/_tfrpt_53vz7tcq91lgn70800000gn/T/pip-install-3ixgc5t0/twint\n",
      "\u001b[33m  WARNING: Did not find branch or tag 'origin/master', assuming revision or ref.\u001b[0m\n",
      "  Running command git checkout -q origin/master\n",
      "Requirement already satisfied, skipping upgrade: aiohttp in /Users/danielsiles/.local/lib/python3.6/site-packages (from twint) (3.7.3)\n",
      "Requirement already satisfied, skipping upgrade: aiodns in /Users/danielsiles/.local/lib/python3.6/site-packages (from twint) (2.0.0)\n",
      "Requirement already satisfied, skipping upgrade: beautifulsoup4 in /Users/danielsiles/anaconda3/lib/python3.6/site-packages (from twint) (4.9.3)\n",
      "Requirement already satisfied, skipping upgrade: cchardet in /Users/danielsiles/.local/lib/python3.6/site-packages (from twint) (2.1.7)\n",
      "Requirement already satisfied, skipping upgrade: dataclasses in /Users/danielsiles/anaconda3/lib/python3.6/site-packages (from twint) (0.8)\n",
      "Requirement already satisfied, skipping upgrade: elasticsearch in /Users/danielsiles/.local/lib/python3.6/site-packages (from twint) (7.11.0)\n",
      "Requirement already satisfied, skipping upgrade: pysocks in /Users/danielsiles/anaconda3/lib/python3.6/site-packages (from twint) (1.7.1)\n",
      "Requirement already satisfied, skipping upgrade: pandas in /Users/danielsiles/anaconda3/lib/python3.6/site-packages (from twint) (1.1.5)\n",
      "Requirement already satisfied, skipping upgrade: aiohttp_socks in /Users/danielsiles/.local/lib/python3.6/site-packages (from twint) (0.5.5)\n",
      "Requirement already satisfied, skipping upgrade: schedule in /Users/danielsiles/.local/lib/python3.6/site-packages (from twint) (1.0.0)\n",
      "Requirement already satisfied, skipping upgrade: geopy in /Users/danielsiles/anaconda3/lib/python3.6/site-packages (from twint) (2.0.0)\n",
      "Requirement already satisfied, skipping upgrade: fake-useragent in /Users/danielsiles/anaconda3/lib/python3.6/site-packages (from twint) (0.1.11)\n",
      "Requirement already satisfied, skipping upgrade: googletransx in /Users/danielsiles/.local/lib/python3.6/site-packages (from twint) (2.4.2)\n",
      "Requirement already satisfied, skipping upgrade: idna-ssl>=1.0; python_version < \"3.7\" in /Users/danielsiles/.local/lib/python3.6/site-packages (from aiohttp->twint) (1.1.0)\n",
      "Requirement already satisfied, skipping upgrade: typing-extensions>=3.6.5 in /Users/danielsiles/anaconda3/lib/python3.6/site-packages (from aiohttp->twint) (3.7.4.3)\n",
      "Requirement already satisfied, skipping upgrade: async-timeout<4.0,>=3.0 in /Users/danielsiles/.local/lib/python3.6/site-packages (from aiohttp->twint) (3.0.1)\n",
      "Requirement already satisfied, skipping upgrade: yarl<2.0,>=1.0 in /Users/danielsiles/.local/lib/python3.6/site-packages (from aiohttp->twint) (1.6.3)\n",
      "Requirement already satisfied, skipping upgrade: chardet<4.0,>=2.0 in /Users/danielsiles/.local/lib/python3.6/site-packages (from aiohttp->twint) (3.0.4)\n",
      "Requirement already satisfied, skipping upgrade: multidict<7.0,>=4.5 in /Users/danielsiles/.local/lib/python3.6/site-packages (from aiohttp->twint) (5.1.0)\n",
      "Requirement already satisfied, skipping upgrade: attrs>=17.3.0 in /Users/danielsiles/anaconda3/lib/python3.6/site-packages (from aiohttp->twint) (20.3.0)\n",
      "Requirement already satisfied, skipping upgrade: pycares>=3.0.0 in /Users/danielsiles/.local/lib/python3.6/site-packages (from aiodns->twint) (3.1.1)\n",
      "Requirement already satisfied, skipping upgrade: typing; python_version < \"3.7\" in /Users/danielsiles/.local/lib/python3.6/site-packages (from aiodns->twint) (3.7.4.3)\n",
      "Requirement already satisfied, skipping upgrade: soupsieve>1.2; python_version >= \"3.0\" in /Users/danielsiles/anaconda3/lib/python3.6/site-packages (from beautifulsoup4->twint) (2.1)\n",
      "Requirement already satisfied, skipping upgrade: certifi in /Users/danielsiles/anaconda3/lib/python3.6/site-packages (from elasticsearch->twint) (2020.11.8)\n",
      "Requirement already satisfied, skipping upgrade: urllib3<2,>=1.21.1 in /Users/danielsiles/anaconda3/lib/python3.6/site-packages (from elasticsearch->twint) (1.26.2)\n",
      "Requirement already satisfied, skipping upgrade: python-dateutil>=2.7.3 in /Users/danielsiles/anaconda3/lib/python3.6/site-packages (from pandas->twint) (2.8.1)\n",
      "Requirement already satisfied, skipping upgrade: pytz>=2017.2 in /Users/danielsiles/anaconda3/lib/python3.6/site-packages (from pandas->twint) (2020.4)\n",
      "Requirement already satisfied, skipping upgrade: numpy>=1.15.4 in /Users/danielsiles/anaconda3/lib/python3.6/site-packages (from pandas->twint) (1.19.2)\n",
      "Requirement already satisfied, skipping upgrade: python-socks[asyncio]>=1.0.1 in /Users/danielsiles/.local/lib/python3.6/site-packages (from aiohttp_socks->twint) (1.2.1)\n",
      "Requirement already satisfied, skipping upgrade: geographiclib<2,>=1.49 in /Users/danielsiles/anaconda3/lib/python3.6/site-packages (from geopy->twint) (1.50)\n",
      "Requirement already satisfied, skipping upgrade: requests in /Users/danielsiles/anaconda3/lib/python3.6/site-packages (from googletransx->twint) (2.25.1)\n",
      "Requirement already satisfied, skipping upgrade: idna>=2.0 in /Users/danielsiles/anaconda3/lib/python3.6/site-packages (from idna-ssl>=1.0; python_version < \"3.7\"->aiohttp->twint) (2.10)\n",
      "Requirement already satisfied, skipping upgrade: cffi>=1.5.0 in /Users/danielsiles/anaconda3/lib/python3.6/site-packages (from pycares>=3.0.0->aiodns->twint) (1.14.0)\n",
      "Requirement already satisfied, skipping upgrade: six>=1.5 in /Users/danielsiles/anaconda3/lib/python3.6/site-packages (from python-dateutil>=2.7.3->pandas->twint) (1.15.0)\n",
      "Requirement already satisfied, skipping upgrade: pycparser in /Users/danielsiles/anaconda3/lib/python3.6/site-packages (from cffi>=1.5.0->pycares>=3.0.0->aiodns->twint) (2.20)\n",
      "Building wheels for collected packages: twint\n",
      "  Building wheel for twint (setup.py) ... \u001b[?25ldone\n",
      "\u001b[?25h  Created wheel for twint: filename=twint-2.1.21-py3-none-any.whl size=38761 sha256=2fa9d48e3b5e50dae7ae8cf7d47c815c20de358af5b369b48aff832fcd32beb9\n",
      "  Stored in directory: /private/var/folders/yq/_tfrpt_53vz7tcq91lgn70800000gn/T/pip-ephem-wheel-cache-7s8w8t_v/wheels/c9/d4/7d/fb0732852f335c92c52450e5c86b6ba5fb09fa226f3584db34\n",
      "Successfully built twint\n",
      "Installing collected packages: twint\n",
      "  Attempting uninstall: twint\n",
      "    Found existing installation: twint 2.1.21\n",
      "    Uninstalling twint-2.1.21:\n",
      "      Successfully uninstalled twint-2.1.21\n",
      "\u001b[33m  WARNING: The script twint is installed in '/Users/danielsiles/.local/bin' which is not on PATH.\n",
      "  Consider adding this directory to PATH or, if you prefer to suppress this warning, use --no-warn-script-location.\n",
      "  NOTE: The current PATH contains path(s) starting with `~`, which may not be expanded by all applications.\u001b[0m\n",
      "Successfully installed twint-2.1.21\n"
     ]
    }
   ],
   "source": [
    "!pip install --user --upgrade git+https://github.com/twintproject/twint.git@origin/master#egg=twint"
   ]
  },
  {
   "cell_type": "code",
   "execution_count": 11,
   "metadata": {},
   "outputs": [
    {
     "name": "stdout",
     "output_type": "stream",
     "text": [
      "Requirement already satisfied: pyqt5==5.12 in /Users/danielsiles/anaconda3/lib/python3.6/site-packages (5.12)\n",
      "Requirement already satisfied: PyQt5_sip<4.20,>=4.19.14 in /Users/danielsiles/anaconda3/lib/python3.6/site-packages (from pyqt5==5.12) (4.19.19)\n"
     ]
    }
   ],
   "source": [
    "!pip install pyqt5==5.12"
   ]
  },
  {
   "cell_type": "code",
   "execution_count": 6,
   "metadata": {},
   "outputs": [],
   "source": [
    "import twint"
   ]
  },
  {
   "cell_type": "code",
   "execution_count": 7,
   "metadata": {},
   "outputs": [],
   "source": [
    "import nest_asyncio\n",
    "nest_asyncio.apply()"
   ]
  },
  {
   "cell_type": "code",
   "execution_count": 10,
   "metadata": {},
   "outputs": [
    {
     "name": "stderr",
     "output_type": "stream",
     "text": [
      "CRITICAL:root:twint.feed:Follow:IndexError\n"
     ]
    }
   ],
   "source": [
    "c = twint.Config()\n",
    "\n",
    "c.Username = \"apple\"\n",
    "twint.run.Followers(c)"
   ]
  },
  {
   "cell_type": "code",
   "execution_count": null,
   "metadata": {},
   "outputs": [],
   "source": []
  }
 ],
 "metadata": {
  "kernelspec": {
   "display_name": "Python 3",
   "language": "python",
   "name": "python3"
  },
  "language_info": {
   "codemirror_mode": {
    "name": "ipython",
    "version": 3
   },
   "file_extension": ".py",
   "mimetype": "text/x-python",
   "name": "python",
   "nbconvert_exporter": "python",
   "pygments_lexer": "ipython3",
   "version": "3.6.10"
  }
 },
 "nbformat": 4,
 "nbformat_minor": 4
}
